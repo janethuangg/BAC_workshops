{
 "cells": [
  {
   "cell_type": "markdown",
   "metadata": {},
   "source": [
    "# Lists\n",
    "\n",
    "`Lists` are **mutable** objects in `Python` that stores a series of values. This means you can change the same `list` object over and over again (this is called **mutating** it). Think of mutable like mutation, lists can mutate and continiously change."
   ]
  },
  {
   "cell_type": "markdown",
   "metadata": {},
   "source": [
    "## Initalization"
   ]
  },
  {
   "cell_type": "code",
   "execution_count": null,
   "metadata": {},
   "outputs": [],
   "source": [
    "#you create a list by using the square brackets: [...]\n",
    "#you can initialize, or create, a list that is empty that has no values in it\n",
    "\n",
    "a = []"
   ]
  },
  {
   "cell_type": "markdown",
   "metadata": {},
   "source": [
    "## Adding Elements\n",
    "There are a couple of ways to add elements to a list. An element is each individual value in a list"
   ]
  },
  {
   "cell_type": "code",
   "execution_count": null,
   "metadata": {},
   "outputs": [],
   "source": [
    "#adding to list when initializing\n",
    "\n",
    "a = [1,2,3,4,5]\n",
    "print(a)"
   ]
  },
  {
   "cell_type": "markdown",
   "metadata": {},
   "source": [
    "**or**"
   ]
  },
  {
   "cell_type": "code",
   "execution_count": null,
   "metadata": {},
   "outputs": [],
   "source": [
    "#we can use a function called .append() that adds elements to the end of the list\n",
    "#we should see the number 6 added to the end of list a\n",
    "a.append(6)\n",
    "print(a)"
   ]
  },
  {
   "cell_type": "markdown",
   "metadata": {},
   "source": [
    "**or**"
   ]
  },
  {
   "cell_type": "code",
   "execution_count": null,
   "metadata": {},
   "outputs": [],
   "source": [
    "#we can use a function called .insert() to insert an element anywhere you want in the list\n",
    "#You must specify the index you want to add the element to\n",
    "\n",
    "a.insert(6,7)\n",
    "print(a)"
   ]
  },
  {
   "cell_type": "markdown",
   "metadata": {},
   "source": [
    "Unlike other languages, like Java and C++, you do not have to assign a certain data type to a list. You can put whatever data type, like strings and ints, in it. You can also technically have multiple data types in a list "
   ]
  },
  {
   "cell_type": "code",
   "execution_count": null,
   "metadata": {},
   "outputs": [],
   "source": [
    "#this is just for fun to show you the capabilities of lists, a mix of data types are not generally used\n",
    "#here, we added an int 1, string 'a', and float 2.3 all to the list b as we initialized it\n",
    "\n",
    "b = [1,'a',2.3]\n",
    "print(b)"
   ]
  },
  {
   "cell_type": "markdown",
   "metadata": {},
   "source": [
    "## Accessing Elements\n",
    "\n",
    "In coding languages, your indices start with 0. So the element in the first position is considered the 0th index"
   ]
  },
  {
   "cell_type": "code",
   "execution_count": null,
   "metadata": {},
   "outputs": [],
   "source": [
    "#to access an element in a list: list[index] where the index starts from 0 and goes left to right.\n",
    "\n",
    "print(a[0])"
   ]
  },
  {
   "cell_type": "code",
   "execution_count": null,
   "metadata": {},
   "outputs": [],
   "source": [
    "#to get a slice of the list, pass in a range of index values\n",
    "#remember that the range does not incluce the last index put through\n",
    "#so it will find the elements in the 1st and 2nd index but not include the element in the 3rd index\n",
    "\n",
    "print(a[1:3])"
   ]
  },
  {
   "cell_type": "markdown",
   "metadata": {},
   "source": [
    "## Deleting Elements\n",
    "\n",
    "You can use functions like .remove() or .pop() to take out elements, but the easiest way is with the del() statement"
   ]
  },
  {
   "cell_type": "code",
   "execution_count": null,
   "metadata": {},
   "outputs": [],
   "source": [
    "#we delete elements by using the del() statement and then calling the element of the list you want to remove\n",
    "#notice 7 is now gone from the list since it was the 6th index\n",
    "\n",
    "del(a[6])\n",
    "print(a)"
   ]
  },
  {
   "cell_type": "markdown",
   "metadata": {},
   "source": [
    "## Extra Functions"
   ]
  },
  {
   "cell_type": "code",
   "execution_count": null,
   "metadata": {},
   "outputs": [],
   "source": [
    "#to check the length of a list, you can use the len() statement\n",
    "\n",
    "print(len(a))"
   ]
  },
  {
   "cell_type": "code",
   "execution_count": null,
   "metadata": {},
   "outputs": [],
   "source": [
    "#to check the data types in our list, we use the type() statement\n",
    "\n",
    "print(type(a))"
   ]
  },
  {
   "cell_type": "code",
   "execution_count": null,
   "metadata": {},
   "outputs": [],
   "source": [
    "#we can also check the type of each element\n",
    "\n",
    "print(type(b[0]))\n",
    "print(type(b[1]))\n",
    "print(type(b[2]))"
   ]
  }
 ],
 "metadata": {
  "kernelspec": {
   "display_name": "Python 3",
   "language": "python",
   "name": "python3"
  },
  "language_info": {
   "codemirror_mode": {
    "name": "ipython",
    "version": 3
   },
   "file_extension": ".py",
   "mimetype": "text/x-python",
   "name": "python",
   "nbconvert_exporter": "python",
   "pygments_lexer": "ipython3",
   "version": "3.7.5"
  }
 },
 "nbformat": 4,
 "nbformat_minor": 2
}
