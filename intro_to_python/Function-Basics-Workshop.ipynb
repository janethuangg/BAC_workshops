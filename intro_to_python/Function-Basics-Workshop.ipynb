{
 "cells": [
  {
   "cell_type": "markdown",
   "metadata": {},
   "source": [
    "# Functions\n",
    "\n",
    "A function is a block of organized, reusable code that is used to perform a single, related action. You generally make a function when you want to rerun the same block of code over and over again but not want to keep writing massive amounts of code.\n",
    "\n",
    "Functions are usually referred to as methods in other languages, like Java or C++."
   ]
  },
  {
   "cell_type": "markdown",
   "metadata": {},
   "source": [
    "## Functions that Print Outputs"
   ]
  },
  {
   "cell_type": "code",
   "execution_count": null,
   "metadata": {},
   "outputs": [],
   "source": [
    "#functions are declared in Python by: def name(parameter):\n",
    "#for example:\n",
    "\n",
    "def printer():\n",
    "    print('I print!')"
   ]
  },
  {
   "cell_type": "code",
   "execution_count": null,
   "metadata": {},
   "outputs": [],
   "source": [
    "#here, we are going to call the function printer to get an output\n",
    "\n",
    "printer()"
   ]
  },
  {
   "cell_type": "markdown",
   "metadata": {},
   "source": [
    "Every time the function printer() is called, it will print out 'I print!'. But as you can see, there are no inputs going into the function so the output will not change no matter how many times you call printer()"
   ]
  },
  {
   "cell_type": "code",
   "execution_count": null,
   "metadata": {},
   "outputs": [],
   "source": [
    "#lets try a simple adding function\n",
    "#we will take in 1 input, or parameter as it is called, and add it to itself, and print out\n",
    "\n",
    "def add(a):\n",
    "    print(a+a)\n",
    "add(2)"
   ]
  },
  {
   "cell_type": "markdown",
   "metadata": {},
   "source": [
    "Notice here how you do not have to declare, or mention what data type 'a' is. It is irrelevant to the function as long as all subsequent operators work with 'a'. In languages like Java and C++, you must declare the data type of a parameter in a method, but not in python."
   ]
  },
  {
   "cell_type": "code",
   "execution_count": null,
   "metadata": {},
   "outputs": [],
   "source": [
    "#you can also create a function that has a default output that prints when no parameter is passed\n",
    "#but changes when a parameter is passed\n",
    "\n",
    "def printer(x='Please feed me text'):\n",
    "    print(x)\n",
    "printer()\n",
    "printer('Fine if you are hungery')"
   ]
  },
  {
   "cell_type": "markdown",
   "metadata": {},
   "source": [
    "## Functions that Return Outputs"
   ]
  },
  {
   "cell_type": "code",
   "execution_count": null,
   "metadata": {},
   "outputs": [],
   "source": [
    "#functions can also return values, this is simply defined by saying return\n",
    "#here is an example of a function used to find the parameter's square\n",
    "#notice it returns a value and you actually need to print the function to see its returned value\n",
    "\n",
    "def squared(x):\n",
    "    return x**2\n",
    "\n",
    "print(squared(4))"
   ]
  },
  {
   "cell_type": "markdown",
   "metadata": {},
   "source": [
    "You may be asking, why don't we just make all of our functions print outputs rather than returning a value. This is because we do not always use functions as a means to output a final value. A lot of times, we use it to return a value than another function or block of code will use, so it is not necessary to print anything"
   ]
  },
  {
   "cell_type": "code",
   "execution_count": null,
   "metadata": {},
   "outputs": [],
   "source": [
    "#here is a quick function that takes in parameters to add or subtract based on what the user puts in\n",
    "#we can see this function is a little more complicated than the other ones because it has 3 parameters\n",
    "#and also if-statements\n",
    "\n",
    "def calc(x, y, operator):   # three parameters (without any defaults)\n",
    "    if operator == '+':         # conditional statement\n",
    "        return x + y\n",
    "    elif operator == '-':\n",
    "        return x - y\n",
    "    else:\n",
    "        print('Valid operations: +, -')\n",
    "        \n",
    "calc(6,4,'+')"
   ]
  },
  {
   "cell_type": "markdown",
   "metadata": {},
   "source": [
    "Functions tend to get much more complicated than this and are really useful when you are trying to repeat the same task over and over again because you only need to call 1 line of code: the name of the function and its parameters"
   ]
  }
 ],
 "metadata": {
  "kernelspec": {
   "display_name": "Python 3",
   "language": "python",
   "name": "python3"
  },
  "language_info": {
   "codemirror_mode": {
    "name": "ipython",
    "version": 3
   },
   "file_extension": ".py",
   "mimetype": "text/x-python",
   "name": "python",
   "nbconvert_exporter": "python",
   "pygments_lexer": "ipython3",
   "version": "3.7.5"
  }
 },
 "nbformat": 4,
 "nbformat_minor": 2
}
